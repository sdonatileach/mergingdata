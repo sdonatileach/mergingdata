{
 "cells": [
  {
   "cell_type": "markdown",
   "metadata": {},
   "source": [
    "# Merging Data to Understand the Relationship between Drug Legalization and Violent Crime\n",
    "### Rachel Richards and Sydney Donati-Leach"
   ]
  },
  {
   "cell_type": "markdown",
   "metadata": {},
   "source": [
    "## Pre-Legalization Analysis"
   ]
  },
  {
   "cell_type": "markdown",
   "metadata": {},
   "source": [
    "### 1.) Download and import the file ca_arrests_2009.csv"
   ]
  },
  {
   "cell_type": "code",
   "execution_count": 1,
   "metadata": {},
   "outputs": [],
   "source": [
    "import pandas as pd\n",
    "arrests_2009 = pd.read_csv('https://raw.githubusercontent.com/nickeubank/practicaldatascience/master/Example_Data/ca/ca_arrests_2009.csv')"
   ]
  },
  {
   "cell_type": "markdown",
   "metadata": {},
   "source": [
    "### 2.) Get a feel for the data"
   ]
  },
  {
   "cell_type": "code",
   "execution_count": 2,
   "metadata": {},
   "outputs": [
    {
     "data": {
      "text/plain": [
       "Unnamed: 0    58\n",
       "COUNTY        58\n",
       "VIOLENT       58\n",
       "PROPERTY      58\n",
       "F_DRUGOFF     58\n",
       "F_SEXOFF      58\n",
       "F_ALLOTHER    58\n",
       "F_TOTAL       58\n",
       "M_TOTAL       58\n",
       "S_TOTAL       58\n",
       "dtype: int64"
      ]
     },
     "execution_count": 2,
     "metadata": {},
     "output_type": "execute_result"
    }
   ],
   "source": [
    "arrests_2009.count()"
   ]
  },
  {
   "cell_type": "markdown",
   "metadata": {},
   "source": [
    "### 3.) Import nhgis_county_populations.csv"
   ]
  },
  {
   "cell_type": "code",
   "execution_count": 3,
   "metadata": {},
   "outputs": [],
   "source": [
    "pop_2009 = pd.read_csv('https://raw.githubusercontent.com/nickeubank/practicaldatascience/master/Example_Data/ca/nhgis_county_populations.csv')"
   ]
  },
  {
   "cell_type": "markdown",
   "metadata": {},
   "source": [
    "### 4.) Figure out how this data relates to your 2009 arrest data."
   ]
  },
  {
   "cell_type": "code",
   "execution_count": 4,
   "metadata": {},
   "outputs": [
    {
     "data": {
      "text/plain": [
       "Unnamed: 0          58\n",
       "YEAR                58\n",
       "STATE               58\n",
       "COUNTY              58\n",
       "total_population    58\n",
       "dtype: int64"
      ]
     },
     "execution_count": 4,
     "metadata": {},
     "output_type": "execute_result"
    }
   ],
   "source": [
    "ca_pop = pop_2009[pop_2009.STATE == \"California\"] \n",
    "ca_pop_2009 = ca_pop[ca_pop.YEAR == \"2005-2009\"]\n",
    "ca_pop_2009.count()"
   ]
  },
  {
   "cell_type": "markdown",
   "metadata": {},
   "source": [
    "### 5.) Merge the two datasets."
   ]
  },
  {
   "cell_type": "code",
   "execution_count": 5,
   "metadata": {},
   "outputs": [],
   "source": [
    "merged_data_2009 = pd.merge(arrests_2009, ca_pop_2009)"
   ]
  },
  {
   "cell_type": "markdown",
   "metadata": {},
   "source": [
    "## Checking Your Merges"
   ]
  },
  {
   "cell_type": "markdown",
   "metadata": {},
   "source": [
    "### 6.) \n",
    "- What variable do you think will be consistent across these two datasets you can use for merging?\n",
    "    - We think that \"COUNTY\" will be the column our datasets will merge on.\n",
    "- Do you think there will be exactly 1 observation for each value in your arrest data?\n",
    "    - Yes, there should only be one value for each person. But multiple people can be in each county.\n",
    "- Do you think there will be exactly 1 observation for each value in your population data?\n",
    "    - Yes, there should only be one value for each county. However, not every county will be represented in the arrest data."
   ]
  },
  {
   "cell_type": "markdown",
   "metadata": {},
   "source": [
    "### Repeat the merge you conducted above, but this time use the validate to make sure your assumptions about the data were correct."
   ]
  },
  {
   "cell_type": "code",
   "execution_count": 6,
   "metadata": {},
   "outputs": [],
   "source": [
    "merged_data_2009 = pd.merge(arrests_2009, ca_pop_2009, on=\"COUNTY\", validate = \"one_to_one\", how=\"left\")"
   ]
  },
  {
   "cell_type": "markdown",
   "metadata": {},
   "source": [
    "### 7.) Create an indicator."
   ]
  },
  {
   "cell_type": "code",
   "execution_count": 7,
   "metadata": {},
   "outputs": [],
   "source": [
    "merged_data_2009 = pd.merge(arrests_2009, ca_pop_2009, on=\"COUNTY\", validate = \"one_to_one\", how=\"left\", indicator=True)"
   ]
  },
  {
   "cell_type": "markdown",
   "metadata": {},
   "source": [
    "### 8.) Repeat your previous merge using both the validate keyword and the indicator keyword with how='outer'."
   ]
  },
  {
   "cell_type": "code",
   "execution_count": 8,
   "metadata": {},
   "outputs": [],
   "source": [
    "merged_data_2009 = pd.merge(arrests_2009, ca_pop_2009, on=\"COUNTY\", validate = \"one_to_one\", how=\"outer\", indicator=True)"
   ]
  },
  {
   "cell_type": "markdown",
   "metadata": {},
   "source": [
    "### 9.)  Figure out why all counties in our arrest data did not merge with population data. Fix the data so that they all merge to population data.\n",
    "At first not all of the counties merged into the dataset because there are two counties that are in the arrest dataset that are not in the population dataset. Thus, when an inner merge is performed the new dataset did not include those two counties. They are included when a left merge is used, which is shown below."
   ]
  },
  {
   "cell_type": "code",
   "execution_count": 9,
   "metadata": {},
   "outputs": [],
   "source": [
    "merged_data_2009 = pd.merge(arrests_2009, ca_pop_2009, on=\"COUNTY\", validate = \"one_to_one\", how=\"left\", indicator=True)"
   ]
  },
  {
   "cell_type": "markdown",
   "metadata": {},
   "source": [
    "## Comparing Arrest Rates"
   ]
  },
  {
   "cell_type": "markdown",
   "metadata": {},
   "source": [
    "### 10.) For each county, create a new variable called 'violent_arrest_rate_2009' that is the number of violent arrests for 2009 divided by the population of the county from 2005-2009, and an analogous variable for drug offenses (F_DRUGOFF)."
   ]
  },
  {
   "cell_type": "code",
   "execution_count": 10,
   "metadata": {},
   "outputs": [],
   "source": [
    "merged_data_2009[\"violent_arrest_rate_2009\"] = merged_data_2009[\"VIOLENT\"] / merged_data_2009[\"total_population\"]\n",
    "merged_data_2009[\"drug_arrest_rate_2009\"] = merged_data_2009[\"F_DRUGOFF\"] / merged_data_2009[\"total_population\"]"
   ]
  },
  {
   "cell_type": "markdown",
   "metadata": {},
   "source": [
    "### 11.) Make a scatter plot that shows the relationship between each county’s violent arrest rate and it’s drug arrest rate."
   ]
  },
  {
   "cell_type": "code",
   "execution_count": 11,
   "metadata": {},
   "outputs": [
    {
     "data": {
      "text/html": [
       "\n",
       "<div id=\"altair-viz-b6538238234140de91785520e08dfd93\"></div>\n",
       "<script type=\"text/javascript\">\n",
       "  (function(spec, embedOpt){\n",
       "    let outputDiv = document.currentScript.previousElementSibling;\n",
       "    if (outputDiv.id !== \"altair-viz-b6538238234140de91785520e08dfd93\") {\n",
       "      outputDiv = document.getElementById(\"altair-viz-b6538238234140de91785520e08dfd93\");\n",
       "    }\n",
       "    const paths = {\n",
       "      \"vega\": \"https://cdn.jsdelivr.net/npm//vega@5?noext\",\n",
       "      \"vega-lib\": \"https://cdn.jsdelivr.net/npm//vega-lib?noext\",\n",
       "      \"vega-lite\": \"https://cdn.jsdelivr.net/npm//vega-lite@4.8.1?noext\",\n",
       "      \"vega-embed\": \"https://cdn.jsdelivr.net/npm//vega-embed@6?noext\",\n",
       "    };\n",
       "\n",
       "    function loadScript(lib) {\n",
       "      return new Promise(function(resolve, reject) {\n",
       "        var s = document.createElement('script');\n",
       "        s.src = paths[lib];\n",
       "        s.async = true;\n",
       "        s.onload = () => resolve(paths[lib]);\n",
       "        s.onerror = () => reject(`Error loading script: ${paths[lib]}`);\n",
       "        document.getElementsByTagName(\"head\")[0].appendChild(s);\n",
       "      });\n",
       "    }\n",
       "\n",
       "    function showError(err) {\n",
       "      outputDiv.innerHTML = `<div class=\"error\" style=\"color:red;\">${err}</div>`;\n",
       "      throw err;\n",
       "    }\n",
       "\n",
       "    function displayChart(vegaEmbed) {\n",
       "      vegaEmbed(outputDiv, spec, embedOpt)\n",
       "        .catch(err => showError(`Javascript Error: ${err.message}<br>This usually means there's a typo in your chart specification. See the javascript console for the full traceback.`));\n",
       "    }\n",
       "\n",
       "    if(typeof define === \"function\" && define.amd) {\n",
       "      requirejs.config({paths});\n",
       "      require([\"vega-embed\"], displayChart, err => showError(`Error loading script: ${err.message}`));\n",
       "    } else if (typeof vegaEmbed === \"function\") {\n",
       "      displayChart(vegaEmbed);\n",
       "    } else {\n",
       "      loadScript(\"vega\")\n",
       "        .then(() => loadScript(\"vega-lite\"))\n",
       "        .then(() => loadScript(\"vega-embed\"))\n",
       "        .catch(showError)\n",
       "        .then(() => displayChart(vegaEmbed));\n",
       "    }\n",
       "  })({\"config\": {\"view\": {\"continuousWidth\": 400, \"continuousHeight\": 300}}, \"data\": {\"name\": \"data-760bf21fbdb152dc0d9867648d281145\"}, \"mark\": \"point\", \"encoding\": {\"x\": {\"type\": \"quantitative\", \"field\": \"violent_arrest_rate_2009\", \"scale\": {\"zero\": false}}, \"y\": {\"type\": \"quantitative\", \"field\": \"drug_arrest_rate_2009\"}}, \"$schema\": \"https://vega.github.io/schema/vega-lite/v4.8.1.json\", \"datasets\": {\"data-760bf21fbdb152dc0d9867648d281145\": [{\"Unnamed: 0_x\": 1682, \"COUNTY\": \"Alameda County\", \"VIOLENT\": 4318, \"PROPERTY\": 4640, \"F_DRUGOFF\": 5749, \"F_SEXOFF\": 260, \"F_ALLOTHER\": 3502, \"F_TOTAL\": 18469, \"M_TOTAL\": 37247, \"S_TOTAL\": 431, \"Unnamed: 0_y\": 186.0, \"YEAR\": \"2005-2009\", \"STATE\": \"California\", \"total_population\": 1457095.0, \"_merge\": \"both\", \"violent_arrest_rate_2009\": 0.002963430661693301, \"drug_arrest_rate_2009\": 0.0039455217401747995}, {\"Unnamed: 0_x\": 1683, \"COUNTY\": \"Alpine County\", \"VIOLENT\": 8, \"PROPERTY\": 4, \"F_DRUGOFF\": 2, \"F_SEXOFF\": 1, \"F_ALLOTHER\": 1, \"F_TOTAL\": 16, \"M_TOTAL\": 83, \"S_TOTAL\": 0, \"Unnamed: 0_y\": 187.0, \"YEAR\": \"2005-2009\", \"STATE\": \"California\", \"total_population\": 1153.0, \"_merge\": \"both\", \"violent_arrest_rate_2009\": 0.006938421509106678, \"drug_arrest_rate_2009\": 0.0017346053772766695}, {\"Unnamed: 0_x\": 1684, \"COUNTY\": \"Amador County\", \"VIOLENT\": 100, \"PROPERTY\": 59, \"F_DRUGOFF\": 101, \"F_SEXOFF\": 5, \"F_ALLOTHER\": 199, \"F_TOTAL\": 464, \"M_TOTAL\": 801, \"S_TOTAL\": 2, \"Unnamed: 0_y\": 188.0, \"YEAR\": \"2005-2009\", \"STATE\": \"California\", \"total_population\": 38039.0, \"_merge\": \"both\", \"violent_arrest_rate_2009\": 0.0026288808854070824, \"drug_arrest_rate_2009\": 0.002655169694261153}, {\"Unnamed: 0_x\": 1685, \"COUNTY\": \"Butte County\", \"VIOLENT\": 641, \"PROPERTY\": 602, \"F_DRUGOFF\": 542, \"F_SEXOFF\": 34, \"F_ALLOTHER\": 429, \"F_TOTAL\": 2248, \"M_TOTAL\": 9026, \"S_TOTAL\": 1, \"Unnamed: 0_y\": 189.0, \"YEAR\": \"2005-2009\", \"STATE\": \"California\", \"total_population\": 217917.0, \"_merge\": \"both\", \"violent_arrest_rate_2009\": 0.0029414868963871564, \"drug_arrest_rate_2009\": 0.0024871854880527907}, {\"Unnamed: 0_x\": 1686, \"COUNTY\": \"Calaveras County\", \"VIOLENT\": 211, \"PROPERTY\": 83, \"F_DRUGOFF\": 123, \"F_SEXOFF\": 14, \"F_ALLOTHER\": 70, \"F_TOTAL\": 501, \"M_TOTAL\": 968, \"S_TOTAL\": 3, \"Unnamed: 0_y\": 190.0, \"YEAR\": \"2005-2009\", \"STATE\": \"California\", \"total_population\": 46548.0, \"_merge\": \"both\", \"violent_arrest_rate_2009\": 0.0045329552290109135, \"drug_arrest_rate_2009\": 0.0026424336169115752}, {\"Unnamed: 0_x\": 1687, \"COUNTY\": \"Colusa County\", \"VIOLENT\": 58, \"PROPERTY\": 50, \"F_DRUGOFF\": 28, \"F_SEXOFF\": 7, \"F_ALLOTHER\": 132, \"F_TOTAL\": 275, \"M_TOTAL\": 917, \"S_TOTAL\": 0, \"Unnamed: 0_y\": 191.0, \"YEAR\": \"2005-2009\", \"STATE\": \"California\", \"total_population\": 21001.0, \"_merge\": \"both\", \"violent_arrest_rate_2009\": 0.0027617732488929097, \"drug_arrest_rate_2009\": 0.0013332698442931289}, {\"Unnamed: 0_x\": 1688, \"COUNTY\": \"Contra Costa County\", \"VIOLENT\": 2976, \"PROPERTY\": 3532, \"F_DRUGOFF\": 2895, \"F_SEXOFF\": 189, \"F_ALLOTHER\": 2069, \"F_TOTAL\": 11661, \"M_TOTAL\": 18539, \"S_TOTAL\": 50, \"Unnamed: 0_y\": 192.0, \"YEAR\": \"2005-2009\", \"STATE\": \"California\", \"total_population\": 1015571.0, \"_merge\": \"both\", \"violent_arrest_rate_2009\": 0.0029303711901974357, \"drug_arrest_rate_2009\": 0.0028506131033674653}, {\"Unnamed: 0_x\": 1689, \"COUNTY\": \"Del Norte County\", \"VIOLENT\": 144, \"PROPERTY\": 104, \"F_DRUGOFF\": 79, \"F_SEXOFF\": 13, \"F_ALLOTHER\": 97, \"F_TOTAL\": 437, \"M_TOTAL\": 1268, \"S_TOTAL\": 5, \"Unnamed: 0_y\": null, \"YEAR\": null, \"STATE\": null, \"total_population\": null, \"_merge\": \"left_only\", \"violent_arrest_rate_2009\": null, \"drug_arrest_rate_2009\": null}, {\"Unnamed: 0_x\": 1690, \"COUNTY\": \"El Dorado County\", \"VIOLENT\": 570, \"PROPERTY\": 399, \"F_DRUGOFF\": 403, \"F_SEXOFF\": 45, \"F_ALLOTHER\": 614, \"F_TOTAL\": 2031, \"M_TOTAL\": 4734, \"S_TOTAL\": 54, \"Unnamed: 0_y\": 194.0, \"YEAR\": \"2005-2009\", \"STATE\": \"California\", \"total_population\": 175941.0, \"_merge\": \"both\", \"violent_arrest_rate_2009\": 0.0032397224069432365, \"drug_arrest_rate_2009\": 0.0022905405789440778}, {\"Unnamed: 0_x\": 1691, \"COUNTY\": \"Fresno County\", \"VIOLENT\": 4377, \"PROPERTY\": 3514, \"F_DRUGOFF\": 3508, \"F_SEXOFF\": 305, \"F_ALLOTHER\": 3253, \"F_TOTAL\": 14957, \"M_TOTAL\": 31710, \"S_TOTAL\": 377, \"Unnamed: 0_y\": 195.0, \"YEAR\": \"2005-2009\", \"STATE\": \"California\", \"total_population\": 890750.0, \"_merge\": \"both\", \"violent_arrest_rate_2009\": 0.004913836654504631, \"drug_arrest_rate_2009\": 0.003938254280101038}, {\"Unnamed: 0_x\": 1692, \"COUNTY\": \"Glenn County\", \"VIOLENT\": 104, \"PROPERTY\": 78, \"F_DRUGOFF\": 104, \"F_SEXOFF\": 14, \"F_ALLOTHER\": 133, \"F_TOTAL\": 433, \"M_TOTAL\": 1283, \"S_TOTAL\": 73, \"Unnamed: 0_y\": 196.0, \"YEAR\": \"2005-2009\", \"STATE\": \"California\", \"total_population\": 27891.0, \"_merge\": \"both\", \"violent_arrest_rate_2009\": 0.003728801405471299, \"drug_arrest_rate_2009\": 0.003728801405471299}, {\"Unnamed: 0_x\": 1693, \"COUNTY\": \"Humboldt County\", \"VIOLENT\": 503, \"PROPERTY\": 440, \"F_DRUGOFF\": 747, \"F_SEXOFF\": 54, \"F_ALLOTHER\": 394, \"F_TOTAL\": 2138, \"M_TOTAL\": 7460, \"S_TOTAL\": 420, \"Unnamed: 0_y\": 197.0, \"YEAR\": \"2005-2009\", \"STATE\": \"California\", \"total_population\": 129003.0, \"_merge\": \"both\", \"violent_arrest_rate_2009\": 0.0038991341286636746, \"drug_arrest_rate_2009\": 0.005790563010162554}, {\"Unnamed: 0_x\": 1694, \"COUNTY\": \"Imperial County\", \"VIOLENT\": 599, \"PROPERTY\": 779, \"F_DRUGOFF\": 730, \"F_SEXOFF\": 28, \"F_ALLOTHER\": 449, \"F_TOTAL\": 2585, \"M_TOTAL\": 6739, \"S_TOTAL\": 69, \"Unnamed: 0_y\": 198.0, \"YEAR\": \"2005-2009\", \"STATE\": \"California\", \"total_population\": 160034.0, \"_merge\": \"both\", \"violent_arrest_rate_2009\": 0.0037429546221427945, \"drug_arrest_rate_2009\": 0.00456153067473162}, {\"Unnamed: 0_x\": 1695, \"COUNTY\": \"Inyo County\", \"VIOLENT\": 81, \"PROPERTY\": 44, \"F_DRUGOFF\": 39, \"F_SEXOFF\": 3, \"F_ALLOTHER\": 38, \"F_TOTAL\": 205, \"M_TOTAL\": 851, \"S_TOTAL\": 1, \"Unnamed: 0_y\": null, \"YEAR\": null, \"STATE\": null, \"total_population\": null, \"_merge\": \"left_only\", \"violent_arrest_rate_2009\": null, \"drug_arrest_rate_2009\": null}, {\"Unnamed: 0_x\": 1696, \"COUNTY\": \"Kern County\", \"VIOLENT\": 4290, \"PROPERTY\": 4384, \"F_DRUGOFF\": 3320, \"F_SEXOFF\": 202, \"F_ALLOTHER\": 2975, \"F_TOTAL\": 15171, \"M_TOTAL\": 31828, \"S_TOTAL\": 524, \"Unnamed: 0_y\": 200.0, \"YEAR\": \"2005-2009\", \"STATE\": \"California\", \"total_population\": 780953.0, \"_merge\": \"both\", \"violent_arrest_rate_2009\": 0.005493288328490959, \"drug_arrest_rate_2009\": 0.0042512161423286675}, {\"Unnamed: 0_x\": 1697, \"COUNTY\": \"Kings County\", \"VIOLENT\": 390, \"PROPERTY\": 322, \"F_DRUGOFF\": 278, \"F_SEXOFF\": 49, \"F_ALLOTHER\": 499, \"F_TOTAL\": 1538, \"M_TOTAL\": 5203, \"S_TOTAL\": 415, \"Unnamed: 0_y\": 201.0, \"YEAR\": \"2005-2009\", \"STATE\": \"California\", \"total_population\": 146696.0, \"_merge\": \"both\", \"violent_arrest_rate_2009\": 0.0026585591972514587, \"drug_arrest_rate_2009\": 0.0018950755303484758}, {\"Unnamed: 0_x\": 1698, \"COUNTY\": \"Lake County\", \"VIOLENT\": 349, \"PROPERTY\": 204, \"F_DRUGOFF\": 271, \"F_SEXOFF\": 17, \"F_ALLOTHER\": 303, \"F_TOTAL\": 1144, \"M_TOTAL\": 3095, \"S_TOTAL\": 13, \"Unnamed: 0_y\": 202.0, \"YEAR\": \"2005-2009\", \"STATE\": \"California\", \"total_population\": 64756.0, \"_merge\": \"both\", \"violent_arrest_rate_2009\": 0.0053894619803570324, \"drug_arrest_rate_2009\": 0.004184940391623942}, {\"Unnamed: 0_x\": 1699, \"COUNTY\": \"Lassen County\", \"VIOLENT\": 101, \"PROPERTY\": 62, \"F_DRUGOFF\": 35, \"F_SEXOFF\": 6, \"F_ALLOTHER\": 83, \"F_TOTAL\": 287, \"M_TOTAL\": 881, \"S_TOTAL\": 12, \"Unnamed: 0_y\": 203.0, \"YEAR\": \"2005-2009\", \"STATE\": \"California\", \"total_population\": 34428.0, \"_merge\": \"both\", \"violent_arrest_rate_2009\": 0.0029336586499360984, \"drug_arrest_rate_2009\": 0.0010166143836412222}, {\"Unnamed: 0_x\": 1700, \"COUNTY\": \"Los Angeles County\", \"VIOLENT\": 35319, \"PROPERTY\": 34630, \"F_DRUGOFF\": 32193, \"F_SEXOFF\": 2041, \"F_ALLOTHER\": 23524, \"F_TOTAL\": 127707, \"M_TOTAL\": 238608, \"S_TOTAL\": 11049, \"Unnamed: 0_y\": 204.0, \"YEAR\": \"2005-2009\", \"STATE\": \"California\", \"total_population\": 9785295.0, \"_merge\": \"both\", \"violent_arrest_rate_2009\": 0.0036093955266550473, \"drug_arrest_rate_2009\": 0.0032899365834141944}, {\"Unnamed: 0_x\": 1701, \"COUNTY\": \"Madera County\", \"VIOLENT\": 453, \"PROPERTY\": 409, \"F_DRUGOFF\": 260, \"F_SEXOFF\": 35, \"F_ALLOTHER\": 505, \"F_TOTAL\": 1662, \"M_TOTAL\": 3366, \"S_TOTAL\": 2, \"Unnamed: 0_y\": 205.0, \"YEAR\": \"2005-2009\", \"STATE\": \"California\", \"total_population\": 144794.0, \"_merge\": \"both\", \"violent_arrest_rate_2009\": 0.003128582676077738, \"drug_arrest_rate_2009\": 0.001795654516071108}, {\"Unnamed: 0_x\": 1702, \"COUNTY\": \"Marin County\", \"VIOLENT\": 500, \"PROPERTY\": 532, \"F_DRUGOFF\": 454, \"F_SEXOFF\": 29, \"F_ALLOTHER\": 276, \"F_TOTAL\": 1791, \"M_TOTAL\": 5795, \"S_TOTAL\": 178, \"Unnamed: 0_y\": 206.0, \"YEAR\": \"2005-2009\", \"STATE\": \"California\", \"total_population\": 246711.0, \"_merge\": \"both\", \"violent_arrest_rate_2009\": 0.002026662775474138, \"drug_arrest_rate_2009\": 0.0018402098001305172}, {\"Unnamed: 0_x\": 1703, \"COUNTY\": \"Mariposa County\", \"VIOLENT\": 64, \"PROPERTY\": 40, \"F_DRUGOFF\": 46, \"F_SEXOFF\": 7, \"F_ALLOTHER\": 43, \"F_TOTAL\": 200, \"M_TOTAL\": 517, \"S_TOTAL\": 21, \"Unnamed: 0_y\": 207.0, \"YEAR\": \"2005-2009\", \"STATE\": \"California\", \"total_population\": 17865.0, \"_merge\": \"both\", \"violent_arrest_rate_2009\": 0.003582423733557235, \"drug_arrest_rate_2009\": 0.0025748670584942626}, {\"Unnamed: 0_x\": 1704, \"COUNTY\": \"Mendocino County\", \"VIOLENT\": 415, \"PROPERTY\": 296, \"F_DRUGOFF\": 551, \"F_SEXOFF\": 17, \"F_ALLOTHER\": 364, \"F_TOTAL\": 1643, \"M_TOTAL\": 3654, \"S_TOTAL\": 10, \"Unnamed: 0_y\": 208.0, \"YEAR\": \"2005-2009\", \"STATE\": \"California\", \"total_population\": 86030.0, \"_merge\": \"both\", \"violent_arrest_rate_2009\": 0.004823898640009299, \"drug_arrest_rate_2009\": 0.006404742531674997}, {\"Unnamed: 0_x\": 1705, \"COUNTY\": \"Merced County\", \"VIOLENT\": 1169, \"PROPERTY\": 1167, \"F_DRUGOFF\": 1055, \"F_SEXOFF\": 78, \"F_ALLOTHER\": 1006, \"F_TOTAL\": 4475, \"M_TOTAL\": 9637, \"S_TOTAL\": 714, \"Unnamed: 0_y\": 209.0, \"YEAR\": \"2005-2009\", \"STATE\": \"California\", \"total_population\": 242235.0, \"_merge\": \"both\", \"violent_arrest_rate_2009\": 0.004825892212108077, \"drug_arrest_rate_2009\": 0.00435527483641918}, {\"Unnamed: 0_x\": 1706, \"COUNTY\": \"Modoc County\", \"VIOLENT\": 47, \"PROPERTY\": 29, \"F_DRUGOFF\": 10, \"F_SEXOFF\": 5, \"F_ALLOTHER\": 52, \"F_TOTAL\": 143, \"M_TOTAL\": 310, \"S_TOTAL\": 50, \"Unnamed: 0_y\": 210.0, \"YEAR\": \"2005-2009\", \"STATE\": \"California\", \"total_population\": 9162.0, \"_merge\": \"both\", \"violent_arrest_rate_2009\": 0.005129884304736957, \"drug_arrest_rate_2009\": 0.0010914647456887142}, {\"Unnamed: 0_x\": 1707, \"COUNTY\": \"Mono County\", \"VIOLENT\": 52, \"PROPERTY\": 38, \"F_DRUGOFF\": 38, \"F_SEXOFF\": 1, \"F_ALLOTHER\": 30, \"F_TOTAL\": 159, \"M_TOTAL\": 521, \"S_TOTAL\": 0, \"Unnamed: 0_y\": 211.0, \"YEAR\": \"2005-2009\", \"STATE\": \"California\", \"total_population\": 12925.0, \"_merge\": \"both\", \"violent_arrest_rate_2009\": 0.00402321083172147, \"drug_arrest_rate_2009\": 0.0029400386847195357}, {\"Unnamed: 0_x\": 1708, \"COUNTY\": \"Monterey County\", \"VIOLENT\": 1385, \"PROPERTY\": 1311, \"F_DRUGOFF\": 967, \"F_SEXOFF\": 136, \"F_ALLOTHER\": 911, \"F_TOTAL\": 4710, \"M_TOTAL\": 11948, \"S_TOTAL\": 304, \"Unnamed: 0_y\": 212.0, \"YEAR\": \"2005-2009\", \"STATE\": \"California\", \"total_population\": 404922.0, \"_merge\": \"both\", \"violent_arrest_rate_2009\": 0.00342041183240229, \"drug_arrest_rate_2009\": 0.0023881142541032595}, {\"Unnamed: 0_x\": 1709, \"COUNTY\": \"Napa County\", \"VIOLENT\": 367, \"PROPERTY\": 400, \"F_DRUGOFF\": 325, \"F_SEXOFF\": 24, \"F_ALLOTHER\": 392, \"F_TOTAL\": 1508, \"M_TOTAL\": 3471, \"S_TOTAL\": 60, \"Unnamed: 0_y\": 213.0, \"YEAR\": \"2005-2009\", \"STATE\": \"California\", \"total_population\": 132173.0, \"_merge\": \"both\", \"violent_arrest_rate_2009\": 0.002776663917744169, \"drug_arrest_rate_2009\": 0.0024588985647598224}, {\"Unnamed: 0_x\": 1710, \"COUNTY\": \"Nevada County\", \"VIOLENT\": 211, \"PROPERTY\": 207, \"F_DRUGOFF\": 240, \"F_SEXOFF\": 10, \"F_ALLOTHER\": 108, \"F_TOTAL\": 776, \"M_TOTAL\": 2319, \"S_TOTAL\": 155, \"Unnamed: 0_y\": 214.0, \"YEAR\": \"2005-2009\", \"STATE\": \"California\", \"total_population\": 97063.0, \"_merge\": \"both\", \"violent_arrest_rate_2009\": 0.0021738458526936112, \"drug_arrest_rate_2009\": 0.002472620875101738}, {\"Unnamed: 0_x\": 1711, \"COUNTY\": \"Orange County\", \"VIOLENT\": 6145, \"PROPERTY\": 7853, \"F_DRUGOFF\": 7524, \"F_SEXOFF\": 579, \"F_ALLOTHER\": 4049, \"F_TOTAL\": 26150, \"M_TOTAL\": 66320, \"S_TOTAL\": 1620, \"Unnamed: 0_y\": 215.0, \"YEAR\": \"2005-2009\", \"STATE\": \"California\", \"total_population\": 2976831.0, \"_merge\": \"both\", \"violent_arrest_rate_2009\": 0.0020642757348334523, \"drug_arrest_rate_2009\": 0.002527520037247664}, {\"Unnamed: 0_x\": 1712, \"COUNTY\": \"Placer County\", \"VIOLENT\": 712, \"PROPERTY\": 1226, \"F_DRUGOFF\": 788, \"F_SEXOFF\": 51, \"F_ALLOTHER\": 972, \"F_TOTAL\": 3749, \"M_TOTAL\": 7070, \"S_TOTAL\": 150, \"Unnamed: 0_y\": 216.0, \"YEAR\": \"2005-2009\", \"STATE\": \"California\", \"total_population\": 332059.0, \"_merge\": \"both\", \"violent_arrest_rate_2009\": 0.0021441972661484857, \"drug_arrest_rate_2009\": 0.002373072255231751}, {\"Unnamed: 0_x\": 1713, \"COUNTY\": \"Plumas County\", \"VIOLENT\": 100, \"PROPERTY\": 44, \"F_DRUGOFF\": 104, \"F_SEXOFF\": 2, \"F_ALLOTHER\": 68, \"F_TOTAL\": 318, \"M_TOTAL\": 867, \"S_TOTAL\": 13, \"Unnamed: 0_y\": 217.0, \"YEAR\": \"2005-2009\", \"STATE\": \"California\", \"total_population\": 20550.0, \"_merge\": \"both\", \"violent_arrest_rate_2009\": 0.004866180048661801, \"drug_arrest_rate_2009\": 0.005060827250608272}, {\"Unnamed: 0_x\": 1714, \"COUNTY\": \"Riverside County\", \"VIOLENT\": 5825, \"PROPERTY\": 7082, \"F_DRUGOFF\": 5881, \"F_SEXOFF\": 479, \"F_ALLOTHER\": 4832, \"F_TOTAL\": 24099, \"M_TOTAL\": 40087, \"S_TOTAL\": 2235, \"Unnamed: 0_y\": 218.0, \"YEAR\": \"2005-2009\", \"STATE\": \"California\", \"total_population\": 2036304.0, \"_merge\": \"both\", \"violent_arrest_rate_2009\": 0.0028605748454061867, \"drug_arrest_rate_2009\": 0.002888075650786916}, {\"Unnamed: 0_x\": 1715, \"COUNTY\": \"Sacramento County\", \"VIOLENT\": 5302, \"PROPERTY\": 5809, \"F_DRUGOFF\": 4492, \"F_SEXOFF\": 409, \"F_ALLOTHER\": 3854, \"F_TOTAL\": 19866, \"M_TOTAL\": 32332, \"S_TOTAL\": 389, \"Unnamed: 0_y\": 219.0, \"YEAR\": \"2005-2009\", \"STATE\": \"California\", \"total_population\": 1375605.0, \"_merge\": \"both\", \"violent_arrest_rate_2009\": 0.003854304106193275, \"drug_arrest_rate_2009\": 0.003265472283104525}, {\"Unnamed: 0_x\": 1716, \"COUNTY\": \"San Benito County\", \"VIOLENT\": 209, \"PROPERTY\": 140, \"F_DRUGOFF\": 111, \"F_SEXOFF\": 20, \"F_ALLOTHER\": 141, \"F_TOTAL\": 621, \"M_TOTAL\": 1460, \"S_TOTAL\": 27, \"Unnamed: 0_y\": 220.0, \"YEAR\": \"2005-2009\", \"STATE\": \"California\", \"total_population\": 54752.0, \"_merge\": \"both\", \"violent_arrest_rate_2009\": 0.0038172121566335477, \"drug_arrest_rate_2009\": 0.002027323202805377}, {\"Unnamed: 0_x\": 1717, \"COUNTY\": \"San Bernardino County\", \"VIOLENT\": 8474, \"PROPERTY\": 10799, \"F_DRUGOFF\": 8793, \"F_SEXOFF\": 720, \"F_ALLOTHER\": 4916, \"F_TOTAL\": 33702, \"M_TOTAL\": 56648, \"S_TOTAL\": 1119, \"Unnamed: 0_y\": 221.0, \"YEAR\": \"2005-2009\", \"STATE\": \"California\", \"total_population\": 1986635.0, \"_merge\": \"both\", \"violent_arrest_rate_2009\": 0.004265504232030544, \"drug_arrest_rate_2009\": 0.004426077261298628}, {\"Unnamed: 0_x\": 1718, \"COUNTY\": \"San Diego County\", \"VIOLENT\": 9812, \"PROPERTY\": 8598, \"F_DRUGOFF\": 7648, \"F_SEXOFF\": 579, \"F_ALLOTHER\": 5321, \"F_TOTAL\": 31958, \"M_TOTAL\": 78405, \"S_TOTAL\": 4107, \"Unnamed: 0_y\": 222.0, \"YEAR\": \"2005-2009\", \"STATE\": \"California\", \"total_population\": 2987543.0, \"_merge\": \"both\", \"violent_arrest_rate_2009\": 0.0032843041924417488, \"drug_arrest_rate_2009\": 0.002559963153668416}, {\"Unnamed: 0_x\": 1719, \"COUNTY\": \"San Francisco County\", \"VIOLENT\": 3629, \"PROPERTY\": 2792, \"F_DRUGOFF\": 6867, \"F_SEXOFF\": 51, \"F_ALLOTHER\": 3339, \"F_TOTAL\": 16678, \"M_TOTAL\": 14782, \"S_TOTAL\": 9, \"Unnamed: 0_y\": 223.0, \"YEAR\": \"2005-2009\", \"STATE\": \"California\", \"total_population\": 797271.0, \"_merge\": \"both\", \"violent_arrest_rate_2009\": 0.004551777250144556, \"drug_arrest_rate_2009\": 0.008613131544982822}, {\"Unnamed: 0_x\": 1720, \"COUNTY\": \"San Joaquin County\", \"VIOLENT\": 3223, \"PROPERTY\": 3136, \"F_DRUGOFF\": 1920, \"F_SEXOFF\": 187, \"F_ALLOTHER\": 2606, \"F_TOTAL\": 11072, \"M_TOTAL\": 23552, \"S_TOTAL\": 49, \"Unnamed: 0_y\": 224.0, \"YEAR\": \"2005-2009\", \"STATE\": \"California\", \"total_population\": 664641.0, \"_merge\": \"both\", \"violent_arrest_rate_2009\": 0.004849234398720512, \"drug_arrest_rate_2009\": 0.00288877755058746}, {\"Unnamed: 0_x\": 1721, \"COUNTY\": \"San Luis Obispo County\", \"VIOLENT\": 609, \"PROPERTY\": 647, \"F_DRUGOFF\": 522, \"F_SEXOFF\": 94, \"F_ALLOTHER\": 403, \"F_TOTAL\": 2275, \"M_TOTAL\": 9962, \"S_TOTAL\": 67, \"Unnamed: 0_y\": 225.0, \"YEAR\": \"2005-2009\", \"STATE\": \"California\", \"total_population\": 262149.0, \"_merge\": \"both\", \"violent_arrest_rate_2009\": 0.002323106325028896, \"drug_arrest_rate_2009\": 0.0019912339928819106}, {\"Unnamed: 0_x\": 1722, \"COUNTY\": \"San Mateo County\", \"VIOLENT\": 1446, \"PROPERTY\": 1527, \"F_DRUGOFF\": 1487, \"F_SEXOFF\": 97, \"F_ALLOTHER\": 935, \"F_TOTAL\": 5492, \"M_TOTAL\": 13119, \"S_TOTAL\": 520, \"Unnamed: 0_y\": 226.0, \"YEAR\": \"2005-2009\", \"STATE\": \"California\", \"total_population\": 701886.0, \"_merge\": \"both\", \"violent_arrest_rate_2009\": 0.0020601636163137603, \"drug_arrest_rate_2009\": 0.0021185776607597247}, {\"Unnamed: 0_x\": 1723, \"COUNTY\": \"Santa Barbara County\", \"VIOLENT\": 1292, \"PROPERTY\": 1037, \"F_DRUGOFF\": 876, \"F_SEXOFF\": 77, \"F_ALLOTHER\": 861, \"F_TOTAL\": 4143, \"M_TOTAL\": 24386, \"S_TOTAL\": 366, \"Unnamed: 0_y\": 227.0, \"YEAR\": \"2005-2009\", \"STATE\": \"California\", \"total_population\": 402025.0, \"_merge\": \"both\", \"violent_arrest_rate_2009\": 0.0032137304893974255, \"drug_arrest_rate_2009\": 0.0021789689695914435}, {\"Unnamed: 0_x\": 1724, \"COUNTY\": \"Santa Clara County\", \"VIOLENT\": 4309, \"PROPERTY\": 4737, \"F_DRUGOFF\": 4325, \"F_SEXOFF\": 506, \"F_ALLOTHER\": 3095, \"F_TOTAL\": 16972, \"M_TOTAL\": 38541, \"S_TOTAL\": 1165, \"Unnamed: 0_y\": 228.0, \"YEAR\": \"2005-2009\", \"STATE\": \"California\", \"total_population\": 1729378.0, \"_merge\": \"both\", \"violent_arrest_rate_2009\": 0.002491647285902793, \"drug_arrest_rate_2009\": 0.0025008991672150335}, {\"Unnamed: 0_x\": 1725, \"COUNTY\": \"Santa Cruz County\", \"VIOLENT\": 753, \"PROPERTY\": 789, \"F_DRUGOFF\": 872, \"F_SEXOFF\": 43, \"F_ALLOTHER\": 744, \"F_TOTAL\": 3201, \"M_TOTAL\": 10455, \"S_TOTAL\": 115, \"Unnamed: 0_y\": 229.0, \"YEAR\": \"2005-2009\", \"STATE\": \"California\", \"total_population\": 251398.0, \"_merge\": \"both\", \"violent_arrest_rate_2009\": 0.002995250558874772, \"drug_arrest_rate_2009\": 0.0034686035688430298}, {\"Unnamed: 0_x\": 1726, \"COUNTY\": \"Shasta County\", \"VIOLENT\": 464, \"PROPERTY\": 505, \"F_DRUGOFF\": 434, \"F_SEXOFF\": 36, \"F_ALLOTHER\": 505, \"F_TOTAL\": 1944, \"M_TOTAL\": 7829, \"S_TOTAL\": 422, \"Unnamed: 0_y\": 230.0, \"YEAR\": \"2005-2009\", \"STATE\": \"California\", \"total_population\": 179387.0, \"_merge\": \"both\", \"violent_arrest_rate_2009\": 0.002586586541945626, \"drug_arrest_rate_2009\": 0.0024193503431129346}, {\"Unnamed: 0_x\": 1727, \"COUNTY\": \"Sierra County\", \"VIOLENT\": 14, \"PROPERTY\": 10, \"F_DRUGOFF\": 6, \"F_SEXOFF\": 3, \"F_ALLOTHER\": 9, \"F_TOTAL\": 42, \"M_TOTAL\": 124, \"S_TOTAL\": 0, \"Unnamed: 0_y\": 231.0, \"YEAR\": \"2005-2009\", \"STATE\": \"California\", \"total_population\": 3240.0, \"_merge\": \"both\", \"violent_arrest_rate_2009\": 0.004320987654320987, \"drug_arrest_rate_2009\": 0.001851851851851852}, {\"Unnamed: 0_x\": 1728, \"COUNTY\": \"Siskiyou County\", \"VIOLENT\": 189, \"PROPERTY\": 145, \"F_DRUGOFF\": 180, \"F_SEXOFF\": 9, \"F_ALLOTHER\": 163, \"F_TOTAL\": 686, \"M_TOTAL\": 1786, \"S_TOTAL\": 8, \"Unnamed: 0_y\": 232.0, \"YEAR\": \"2005-2009\", \"STATE\": \"California\", \"total_population\": 44404.0, \"_merge\": \"both\", \"violent_arrest_rate_2009\": 0.00425637329970273, \"drug_arrest_rate_2009\": 0.004053688856859743}, {\"Unnamed: 0_x\": 1729, \"COUNTY\": \"Solano County\", \"VIOLENT\": 1599, \"PROPERTY\": 1326, \"F_DRUGOFF\": 1422, \"F_SEXOFF\": 81, \"F_ALLOTHER\": 1027, \"F_TOTAL\": 5455, \"M_TOTAL\": 10682, \"S_TOTAL\": 191, \"Unnamed: 0_y\": 233.0, \"YEAR\": \"2005-2009\", \"STATE\": \"California\", \"total_population\": 406461.0, \"_merge\": \"both\", \"violent_arrest_rate_2009\": 0.003933956763379512, \"drug_arrest_rate_2009\": 0.0034984906300973527}, {\"Unnamed: 0_x\": 1730, \"COUNTY\": \"Sonoma County\", \"VIOLENT\": 1359, \"PROPERTY\": 1296, \"F_DRUGOFF\": 1682, \"F_SEXOFF\": 81, \"F_ALLOTHER\": 954, \"F_TOTAL\": 5372, \"M_TOTAL\": 16767, \"S_TOTAL\": 99, \"Unnamed: 0_y\": 234.0, \"YEAR\": \"2005-2009\", \"STATE\": \"California\", \"total_population\": 464218.0, \"_merge\": \"both\", \"violent_arrest_rate_2009\": 0.0029275038882593954, \"drug_arrest_rate_2009\": 0.00362329767479934}, {\"Unnamed: 0_x\": 1731, \"COUNTY\": \"Stanislaus County\", \"VIOLENT\": 2211, \"PROPERTY\": 2595, \"F_DRUGOFF\": 2209, \"F_SEXOFF\": 111, \"F_ALLOTHER\": 2104, \"F_TOTAL\": 9230, \"M_TOTAL\": 14369, \"S_TOTAL\": 133, \"Unnamed: 0_y\": 235.0, \"YEAR\": \"2005-2009\", \"STATE\": \"California\", \"total_population\": 505165.0, \"_merge\": \"both\", \"violent_arrest_rate_2009\": 0.004376787782209773, \"drug_arrest_rate_2009\": 0.0043728286797383034}, {\"Unnamed: 0_x\": 1732, \"COUNTY\": \"Sutter County\", \"VIOLENT\": 426, \"PROPERTY\": 358, \"F_DRUGOFF\": 173, \"F_SEXOFF\": 37, \"F_ALLOTHER\": 194, \"F_TOTAL\": 1188, \"M_TOTAL\": 2916, \"S_TOTAL\": 184, \"Unnamed: 0_y\": 236.0, \"YEAR\": \"2005-2009\", \"STATE\": \"California\", \"total_population\": 90731.0, \"_merge\": \"both\", \"violent_arrest_rate_2009\": 0.004695197892671744, \"drug_arrest_rate_2009\": 0.0019067352944418115}, {\"Unnamed: 0_x\": 1733, \"COUNTY\": \"Tehama County\", \"VIOLENT\": 236, \"PROPERTY\": 272, \"F_DRUGOFF\": 457, \"F_SEXOFF\": 16, \"F_ALLOTHER\": 189, \"F_TOTAL\": 1170, \"M_TOTAL\": 2871, \"S_TOTAL\": 12, \"Unnamed: 0_y\": 237.0, \"YEAR\": \"2005-2009\", \"STATE\": \"California\", \"total_population\": 60601.0, \"_merge\": \"both\", \"violent_arrest_rate_2009\": 0.003894325176152209, \"drug_arrest_rate_2009\": 0.007541129684328641}, {\"Unnamed: 0_x\": 1734, \"COUNTY\": \"Trinity County\", \"VIOLENT\": 65, \"PROPERTY\": 50, \"F_DRUGOFF\": 63, \"F_SEXOFF\": 10, \"F_ALLOTHER\": 53, \"F_TOTAL\": 241, \"M_TOTAL\": 527, \"S_TOTAL\": 2, \"Unnamed: 0_y\": 238.0, \"YEAR\": \"2005-2009\", \"STATE\": \"California\", \"total_population\": 13922.0, \"_merge\": \"both\", \"violent_arrest_rate_2009\": 0.004668869415313892, \"drug_arrest_rate_2009\": 0.004525211894842695}, {\"Unnamed: 0_x\": 1735, \"COUNTY\": \"Tulare County\", \"VIOLENT\": 2183, \"PROPERTY\": 2080, \"F_DRUGOFF\": 1681, \"F_SEXOFF\": 170, \"F_ALLOTHER\": 1767, \"F_TOTAL\": 7881, \"M_TOTAL\": 15368, \"S_TOTAL\": 301, \"Unnamed: 0_y\": 239.0, \"YEAR\": \"2005-2009\", \"STATE\": \"California\", \"total_population\": 416299.0, \"_merge\": \"both\", \"violent_arrest_rate_2009\": 0.005243827153079877, \"drug_arrest_rate_2009\": 0.0040379630986382385}, {\"Unnamed: 0_x\": 1736, \"COUNTY\": \"Tuolumne County\", \"VIOLENT\": 160, \"PROPERTY\": 252, \"F_DRUGOFF\": 209, \"F_SEXOFF\": 14, \"F_ALLOTHER\": 261, \"F_TOTAL\": 896, \"M_TOTAL\": 2062, \"S_TOTAL\": 83, \"Unnamed: 0_y\": 240.0, \"YEAR\": \"2005-2009\", \"STATE\": \"California\", \"total_population\": 55761.0, \"_merge\": \"both\", \"violent_arrest_rate_2009\": 0.0028693889994799234, \"drug_arrest_rate_2009\": 0.00374813938057065}, {\"Unnamed: 0_x\": 1737, \"COUNTY\": \"Ventura County\", \"VIOLENT\": 2275, \"PROPERTY\": 2425, \"F_DRUGOFF\": 2040, \"F_SEXOFF\": 120, \"F_ALLOTHER\": 2083, \"F_TOTAL\": 8943, \"M_TOTAL\": 25762, \"S_TOTAL\": 1734, \"Unnamed: 0_y\": 241.0, \"YEAR\": \"2005-2009\", \"STATE\": \"California\", \"total_population\": 792313.0, \"_merge\": \"both\", \"violent_arrest_rate_2009\": 0.002871339988110759, \"drug_arrest_rate_2009\": 0.0025747400332949226}, {\"Unnamed: 0_x\": 1738, \"COUNTY\": \"Yolo County\", \"VIOLENT\": 585, \"PROPERTY\": 634, \"F_DRUGOFF\": 614, \"F_SEXOFF\": 39, \"F_ALLOTHER\": 662, \"F_TOTAL\": 2534, \"M_TOTAL\": 5426, \"S_TOTAL\": 73, \"Unnamed: 0_y\": 242.0, \"YEAR\": \"2005-2009\", \"STATE\": \"California\", \"total_population\": 192974.0, \"_merge\": \"both\", \"violent_arrest_rate_2009\": 0.003031496471027185, \"drug_arrest_rate_2009\": 0.0031817757832661394}, {\"Unnamed: 0_x\": 1739, \"COUNTY\": \"Yuba County\", \"VIOLENT\": 354, \"PROPERTY\": 368, \"F_DRUGOFF\": 211, \"F_SEXOFF\": 39, \"F_ALLOTHER\": 257, \"F_TOTAL\": 1229, \"M_TOTAL\": 2967, \"S_TOTAL\": 4, \"Unnamed: 0_y\": 243.0, \"YEAR\": \"2005-2009\", \"STATE\": \"California\", \"total_population\": 70906.0, \"_merge\": \"both\", \"violent_arrest_rate_2009\": 0.004992525315206047, \"drug_arrest_rate_2009\": 0.0029757707387245086}]}}, {\"mode\": \"vega-lite\"});\n",
       "</script>"
      ],
      "text/plain": [
       "alt.Chart(...)"
      ]
     },
     "metadata": {},
     "output_type": "display_data"
    }
   ],
   "source": [
    "import altair as alt\n",
    "\n",
    "c = alt.Chart(merged_data_2009).mark_point().encode(x= alt.X(f\"violent_arrest_rate_2009\", scale=alt.Scale(zero=False)), y= f\"drug_arrest_rate_2009\")\n",
    "c.display()"
   ]
  },
  {
   "cell_type": "markdown",
   "metadata": {},
   "source": [
    "From the chart we can see that there is a slight trend between violent and drug arrest rates. As the violent arrest rate increase so does the drug arrest rate."
   ]
  },
  {
   "cell_type": "markdown",
   "metadata": {},
   "source": [
    "## Comparing with 2018 Arrests"
   ]
  },
  {
   "cell_type": "markdown",
   "metadata": {},
   "source": [
    "### 12.) Now use the dataset to find the rates for 2018."
   ]
  },
  {
   "cell_type": "code",
   "execution_count": 12,
   "metadata": {},
   "outputs": [],
   "source": [
    "arrests_2018 = pd.read_csv('https://raw.githubusercontent.com/nickeubank/practicaldatascience/master/Example_Data/ca/ca_arrests_2018.csv')\n",
    "ca_pop_2018 = ca_pop[ca_pop.YEAR == \"2013-2017\"]\n",
    "merged_data_2018 = pd.merge(arrests_2018, ca_pop_2018, on=\"COUNTY\", validate = \"one_to_one\", how=\"left\")\n",
    "merged_data_2018[\"violent_arrest_rate_2018\"] = merged_data_2018[\"VIOLENT\"] / merged_data_2018[\"total_population\"]\n",
    "merged_data_2018[\"drug_arrest_rate_2018\"] = merged_data_2018[\"F_DRUGOFF\"] / merged_data_2018[\"total_population\"]"
   ]
  },
  {
   "cell_type": "markdown",
   "metadata": {},
   "source": [
    "### 13.) Merge the two county-level datasets so you have one row for every county, and variables for violent arrest rates in 2018, violent arrest rates in 2009, felony drug arrest rates in 2018, and felony drug arrest rates in 2009."
   ]
  },
  {
   "cell_type": "code",
   "execution_count": 13,
   "metadata": {},
   "outputs": [],
   "source": [
    "merged_years= pd.merge(merged_data_2009, merged_data_2018, on=\"COUNTY\", validate = \"one_to_one\", how=\"left\")"
   ]
  },
  {
   "cell_type": "markdown",
   "metadata": {},
   "source": [
    "### 14.) Did drug arrests go down from 2009 to 2018?"
   ]
  },
  {
   "cell_type": "code",
   "execution_count": 14,
   "metadata": {},
   "outputs": [
    {
     "name": "stdout",
     "output_type": "stream",
     "text": [
      "The average percent of drug arrests in 2009 was 0.32%.\n",
      "The average percent of drug arrests in 2018 was 0.10%.\n"
     ]
    }
   ],
   "source": [
    "avg_drug_2009 = merged_years[\"drug_arrest_rate_2009\"].mean()\n",
    "avg_drug_2018 = merged_years[\"drug_arrest_rate_2018\"].mean()\n",
    "print(\"The average percent of drug arrests in 2009 was {:.2f}%.\".format(avg_drug_2009 * 100))\n",
    "print(\"The average percent of drug arrests in 2018 was {:.2f}%.\".format(avg_drug_2018 * 100))"
   ]
  },
  {
   "cell_type": "markdown",
   "metadata": {},
   "source": [
    "This indicates that drug arrests went down from 2009 to 2018."
   ]
  },
  {
   "cell_type": "markdown",
   "metadata": {},
   "source": [
    "### 15.) Did the average violent arrest rate decrease? By how much?"
   ]
  },
  {
   "cell_type": "code",
   "execution_count": 15,
   "metadata": {},
   "outputs": [
    {
     "name": "stdout",
     "output_type": "stream",
     "text": [
      "The average percent of violent arrests in 2009 was 0.37%.\n",
      "The average percent of violent arrests in 2018 was 0.33%.\n"
     ]
    }
   ],
   "source": [
    "avg_violent_2009 = merged_years[\"violent_arrest_rate_2009\"].mean()\n",
    "avg_violent_2018 = merged_years[\"violent_arrest_rate_2018\"].mean()\n",
    "\n",
    "print(\"The average percent of violent arrests in 2009 was {:.2f}%.\".format(avg_violent_2009 * 100))\n",
    "print(\"The average percent of violent arrests in 2018 was {:.2f}%.\".format(avg_violent_2018 * 100))"
   ]
  },
  {
   "cell_type": "markdown",
   "metadata": {},
   "source": [
    "The average violent arrests decreased by 0.04% from 2009 to 2018."
   ]
  },
  {
   "cell_type": "markdown",
   "metadata": {},
   "source": [
    "### 16.) Split the sample into two groups: high drug arrests in 2009, and low drug arrests in 2009 (cut the sample at the average drug arrest rate in 2009). Did violent crime fall more from 2009 to 2018 in the counties that had lots of drug arrests in 2009 (where legalization likely had more of an effect) than in counties with fewer drug arrests in 2009 (where legalization likely mattered less)?"
   ]
  },
  {
   "cell_type": "code",
   "execution_count": 16,
   "metadata": {},
   "outputs": [
    {
     "name": "stdout",
     "output_type": "stream",
     "text": [
      "The change in violent crime rate for counties with lots of drug arrests in 2009 was 0.003%.\n",
      "The change in violent crime rate for counties with few drug arrests in 2009 was -0.083%.\n",
      "Counties with high drug arrests had violent crime rates decrease by -0.086% more than counties with low drug arrests.\n"
     ]
    }
   ],
   "source": [
    "low_drug_arrest = merged_years[merged_years[\"drug_arrest_rate_2009\"] < 0.0032163867]\n",
    "high_drug_arrest = merged_years[merged_years[\"drug_arrest_rate_2009\"] >= 0.0032163867]\n",
    "\n",
    "avg_violent_lowdrug_2009 = low_drug_arrest[\"violent_arrest_rate_2009\"].mean()\n",
    "avg_violent_highdrug_2009 = high_drug_arrest[\"violent_arrest_rate_2009\"].mean()\n",
    "\n",
    "diff_low = avg_violent_2018 - avg_violent_lowdrug_2009\n",
    "diff_high = avg_violent_2018 - avg_violent_highdrug_2009\n",
    "\n",
    "print(\"The change in violent crime rate for counties with lots of drug arrests in 2009 was {:.3f}%.\".format(diff_low * 100))\n",
    "print(\"The change in violent crime rate for counties with few drug arrests in 2009 was {:.3f}%.\".format(diff_high * 100))\n",
    "\n",
    "#(the change in violent crime rate for counties with lots of drug arrests in 2009) - (the change in violent crime rate for counties with few drug arrests in 2009)\n",
    "diff_of_diff = diff_high - diff_low\n",
    "\n",
    "print(\"Counties with high drug arrests had violent crime rates decrease by {:.3f}% more than counties with low drug arrests.\".format(diff_of_diff * 100))\n",
    "\n"
   ]
  },
  {
   "cell_type": "markdown",
   "metadata": {},
   "source": [
    "### 17.) Calculate the proportionate decline in violent arrest rates in counties more impacted by drug legalization as compared to counties less impacted by drug legalization."
   ]
  },
  {
   "cell_type": "code",
   "execution_count": 17,
   "metadata": {},
   "outputs": [
    {
     "name": "stdout",
     "output_type": "stream",
     "text": [
      "The percentage change in violent crime rate for counties with few drug arrests in 2009 was 0.916%.\n",
      "The percentage change in violent crime rate for counties with lots of drug arrests in 2009 was -19.901%.\n",
      "The proportional difference between percent change in violent crime for counties with lots of drug arrests versus counties with few drug arrests is -20.816%. This shows that counties with high drug arrests had a larger proportionate decline.\n"
     ]
    }
   ],
   "source": [
    "avg_lowdrug_2009 = low_drug_arrest[\"drug_arrest_rate_2009\"].mean()\n",
    "\n",
    "percent_change_low = ((avg_violent_2018 - avg_violent_lowdrug_2009)/ avg_violent_lowdrug_2009) * 100\n",
    "percent_change_high = ((avg_violent_2018 - avg_violent_highdrug_2009)/ avg_violent_highdrug_2009) * 100\n",
    "\n",
    "print(\"The percentage change in violent crime rate for counties with few drug arrests in 2009 was {:.3f}%.\".format(percent_change_low))\n",
    "print(\"The percentage change in violent crime rate for counties with lots of drug arrests in 2009 was {:.3f}%.\".format(percent_change_high))\n",
    "\n",
    "#(the percentage change in violent crime rate for counties with lots of drug arrests in 2009) - (the percentage change in violent crime rate for counties with few drug arrests in 2009)\n",
    "proportionate_diff = percent_change_high - percent_change_low\n",
    "\n",
    "print(\"The proportional difference between percent change in violent crime for counties with lots of drug arrests versus counties with few drug arrests is {:.3f}%. This shows that counties with high drug arrests had a larger proportionate decline.\".format(proportionate_diff))"
   ]
  }
 ],
 "metadata": {
  "interpreter": {
   "hash": "e54be2c2f2c714dbea999381e10a460e1be5599ab6d08bf317a5bed3c70e3512"
  },
  "kernelspec": {
   "display_name": "Python 3.9.5 64-bit ('base': conda)",
   "name": "python3"
  },
  "language_info": {
   "codemirror_mode": {
    "name": "ipython",
    "version": 3
   },
   "file_extension": ".py",
   "mimetype": "text/x-python",
   "name": "python",
   "nbconvert_exporter": "python",
   "pygments_lexer": "ipython3",
   "version": "3.9.5"
  },
  "orig_nbformat": 4
 },
 "nbformat": 4,
 "nbformat_minor": 2
}
